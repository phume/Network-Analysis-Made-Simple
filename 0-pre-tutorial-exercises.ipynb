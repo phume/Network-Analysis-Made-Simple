{
  "nbformat": 4,
  "nbformat_minor": 0,
  "metadata": {
    "kernelspec": {
      "display_name": "Python 3",
      "language": "python",
      "name": "python3"
    },
    "language_info": {
      "codemirror_mode": {
        "name": "ipython",
        "version": 3
      },
      "file_extension": ".py",
      "mimetype": "text/x-python",
      "name": "python",
      "nbconvert_exporter": "python",
      "pygments_lexer": "ipython3",
      "version": "3.6.5"
    },
    "toc": {
      "colors": {
        "hover_highlight": "#DAA520",
        "navigate_num": "#000000",
        "navigate_text": "#333333",
        "running_highlight": "#FF0000",
        "selected_highlight": "#FFD700",
        "sidebar_border": "#EEEEEE",
        "wrapper_background": "#FFFFFF"
      },
      "moveMenuLeft": true,
      "nav_menu": {
        "height": "30px",
        "width": "252px"
      },
      "navigate_menu": true,
      "number_sections": true,
      "sideBar": true,
      "threshold": 4,
      "toc_cell": false,
      "toc_section_display": "block",
      "toc_window_display": false,
      "widenNotebook": false
    },
    "varInspector": {
      "cols": {
        "lenName": 16,
        "lenType": 16,
        "lenVar": 40
      },
      "kernels_config": {
        "python": {
          "delete_cmd_postfix": "",
          "delete_cmd_prefix": "del ",
          "library": "var_list.py",
          "varRefreshCmd": "print(var_dic_list())"
        },
        "r": {
          "delete_cmd_postfix": ") ",
          "delete_cmd_prefix": "rm(",
          "library": "var_list.r",
          "varRefreshCmd": "cat(var_dic_list()) "
        }
      },
      "types_to_exclude": [
        "module",
        "function",
        "builtin_function_or_method",
        "instance",
        "_Feature"
      ],
      "window_display": false
    },
    "colab": {
      "name": "0-pre-tutorial-exercises.ipynb",
      "provenance": []
    }
  },
  "cells": [
    {
      "cell_type": "markdown",
      "metadata": {
        "id": "V-hiDJUpgsUH",
        "colab_type": "text"
      },
      "source": [
        "# Pre-Tutorial Exercises\n",
        "\n",
        "If you've arrived early for the tutorial, please feel free to attempt the following exercises to warm-up."
      ]
    },
    {
      "cell_type": "code",
      "metadata": {
        "ExecuteTime": {
          "end_time": "2017-07-08T12:07:28.341024-04:00",
          "start_time": "2017-07-08T12:07:28.328856Z"
        },
        "id": "vzh34AfNgsUL",
        "colab_type": "code",
        "colab": {}
      },
      "source": [
        "# 1. Basic Python data structures\n",
        "# I have a list of dictionaries as such:\n",
        "\n",
        "names = [{'name': 'Eric',\n",
        "          'surname': 'Ma'},\n",
        "         {'name': 'Jeffrey',\n",
        "          'surname': 'Elmer'},\n",
        "         {'name': 'Mike',\n",
        "          'surname': 'Lee'},\n",
        "         {'name': 'Jennifer',\n",
        "          'surname': 'Elmer'}]\n",
        "\n",
        "# Write a function that takes in a list of dictionaries and a query surname, \n",
        "# and searches it for all individuals with a given surname.\n",
        "\n",
        "def find_persons_with_surname(persons, query_surname):\n",
        "    # Assert that the persons parameter is a list. \n",
        "    # This is a good defensive programming practice.\n",
        "    assert isinstance(persons, list)   \n",
        "    \n",
        "    results = []\n",
        "    for name in names:\n",
        "        if name['surname'] == query_surname:\n",
        "            results.append(name['name'])\n",
        "    \n",
        "    return results"
      ],
      "execution_count": 0,
      "outputs": []
    },
    {
      "cell_type": "code",
      "metadata": {
        "ExecuteTime": {
          "end_time": "2017-07-08T12:07:28.468914-04:00",
          "start_time": "2017-07-08T12:07:28.343869Z"
        },
        "id": "Cg1vFh7zgsUS",
        "colab_type": "code",
        "colab": {}
      },
      "source": [
        "# Test your result below.\n",
        "results = find_persons_with_surname(names, 'Lee')\n",
        "assert len(results) == 1\n",
        "\n",
        "results = find_persons_with_surname(names, 'Elmer')\n",
        "assert len(results) == 2"
      ],
      "execution_count": 0,
      "outputs": []
    },
    {
      "cell_type": "code",
      "metadata": {
        "id": "om7RyS6LhSwF",
        "colab_type": "code",
        "colab": {}
      },
      "source": [
        ""
      ],
      "execution_count": 0,
      "outputs": []
    }
  ]
}